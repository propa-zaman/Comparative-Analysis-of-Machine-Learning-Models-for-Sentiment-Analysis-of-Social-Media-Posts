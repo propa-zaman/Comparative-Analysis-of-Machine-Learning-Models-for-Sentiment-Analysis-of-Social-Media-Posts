{
  "nbformat": 4,
  "nbformat_minor": 0,
  "metadata": {
    "colab": {
      "provenance": [],
      "gpuType": "T4"
    },
    "kernelspec": {
      "name": "python3",
      "display_name": "Python 3"
    },
    "language_info": {
      "name": "python"
    },
    "accelerator": "GPU"
  },
  "cells": [
    {
      "cell_type": "code",
      "execution_count": null,
      "metadata": {
        "colab": {
          "base_uri": "https://localhost:8080/"
        },
        "id": "Kl0tTRK_BYnH",
        "outputId": "e482e909-3a7d-46c2-b347-080c33584048"
      },
      "outputs": [
        {
          "output_type": "stream",
          "name": "stdout",
          "text": [
            "Mounted at /content/drive\n"
          ]
        }
      ],
      "source": [
        "import os\n",
        "\n",
        "# Mount Google Drive\n",
        "from google.colab import drive\n",
        "drive.mount('/content/drive')\n",
        "\n",
        "# Access folder in Google Drive\n",
        "folder_path = '/content/drive/MyDrive/AI Project'\n",
        "os.chdir(folder_path)"
      ]
    },
    {
      "cell_type": "code",
      "metadata": {
        "id": "UA-jPWIqK59Q"
      },
      "source": [
        "import numpy as np\n",
        "import pandas as pd"
      ],
      "execution_count": null,
      "outputs": []
    },
    {
      "cell_type": "markdown",
      "metadata": {
        "id": "jAkmz2o3Ps_f"
      },
      "source": [
        "### Importing dataset\n",
        "\n",
        "\n"
      ]
    },
    {
      "cell_type": "code",
      "source": [
        "dataset = pd.read_csv('/content/drive/MyDrive/AI Project/datasets/Dataset for sentiment analysis.tsv', delimiter = '\\t', quoting = 3)"
      ],
      "metadata": {
        "id": "LmUw5FoLCeW1"
      },
      "execution_count": null,
      "outputs": []
    },
    {
      "cell_type": "code",
      "metadata": {
        "id": "5I60cmjOPxSY",
        "colab": {
          "base_uri": "https://localhost:8080/"
        },
        "outputId": "5dd88ec9-0348-474d-9a89-80285630876b"
      },
      "source": [
        "dataset.shape\n"
      ],
      "execution_count": null,
      "outputs": [
        {
          "output_type": "execute_result",
          "data": {
            "text/plain": [
              "(1315, 2)"
            ]
          },
          "metadata": {},
          "execution_count": 4
        }
      ]
    },
    {
      "cell_type": "code",
      "source": [
        "# dataset=dataset.head(900)\n",
        "# dataset.shape"
      ],
      "metadata": {
        "colab": {
          "base_uri": "https://localhost:8080/"
        },
        "id": "fuvyhnYwC8Av",
        "outputId": "c4d97ef7-eb84-4f65-988d-5e35ffe5e74d"
      },
      "execution_count": null,
      "outputs": [
        {
          "output_type": "execute_result",
          "data": {
            "text/plain": [
              "(900, 2)"
            ]
          },
          "metadata": {},
          "execution_count": 33
        }
      ]
    },
    {
      "cell_type": "code",
      "metadata": {
        "id": "OogtEOYrO-CW",
        "colab": {
          "base_uri": "https://localhost:8080/",
          "height": 206
        },
        "outputId": "c20de8be-619c-4f56-e5ef-f06e5419157d"
      },
      "source": [
        "dataset.head()"
      ],
      "execution_count": null,
      "outputs": [
        {
          "output_type": "execute_result",
          "data": {
            "text/plain": [
              "                                              Review  Liked\n",
              "0                           Wow... Loved this place.      1\n",
              "1                                 Crust is not good.      0\n",
              "2          Not tasty and the texture was just nasty.      0\n",
              "3  Stopped by during the late May bank holiday of...      1\n",
              "4  The selection on the menu was great and so wer...      1"
            ],
            "text/html": [
              "\n",
              "  <div id=\"df-1dff3466-d4f4-4f13-a2ca-a776c6c48c43\">\n",
              "    <div class=\"colab-df-container\">\n",
              "      <div>\n",
              "<style scoped>\n",
              "    .dataframe tbody tr th:only-of-type {\n",
              "        vertical-align: middle;\n",
              "    }\n",
              "\n",
              "    .dataframe tbody tr th {\n",
              "        vertical-align: top;\n",
              "    }\n",
              "\n",
              "    .dataframe thead th {\n",
              "        text-align: right;\n",
              "    }\n",
              "</style>\n",
              "<table border=\"1\" class=\"dataframe\">\n",
              "  <thead>\n",
              "    <tr style=\"text-align: right;\">\n",
              "      <th></th>\n",
              "      <th>Review</th>\n",
              "      <th>Liked</th>\n",
              "    </tr>\n",
              "  </thead>\n",
              "  <tbody>\n",
              "    <tr>\n",
              "      <th>0</th>\n",
              "      <td>Wow... Loved this place.</td>\n",
              "      <td>1</td>\n",
              "    </tr>\n",
              "    <tr>\n",
              "      <th>1</th>\n",
              "      <td>Crust is not good.</td>\n",
              "      <td>0</td>\n",
              "    </tr>\n",
              "    <tr>\n",
              "      <th>2</th>\n",
              "      <td>Not tasty and the texture was just nasty.</td>\n",
              "      <td>0</td>\n",
              "    </tr>\n",
              "    <tr>\n",
              "      <th>3</th>\n",
              "      <td>Stopped by during the late May bank holiday of...</td>\n",
              "      <td>1</td>\n",
              "    </tr>\n",
              "    <tr>\n",
              "      <th>4</th>\n",
              "      <td>The selection on the menu was great and so wer...</td>\n",
              "      <td>1</td>\n",
              "    </tr>\n",
              "  </tbody>\n",
              "</table>\n",
              "</div>\n",
              "      <button class=\"colab-df-convert\" onclick=\"convertToInteractive('df-1dff3466-d4f4-4f13-a2ca-a776c6c48c43')\"\n",
              "              title=\"Convert this dataframe to an interactive table.\"\n",
              "              style=\"display:none;\">\n",
              "        \n",
              "  <svg xmlns=\"http://www.w3.org/2000/svg\" height=\"24px\"viewBox=\"0 0 24 24\"\n",
              "       width=\"24px\">\n",
              "    <path d=\"M0 0h24v24H0V0z\" fill=\"none\"/>\n",
              "    <path d=\"M18.56 5.44l.94 2.06.94-2.06 2.06-.94-2.06-.94-.94-2.06-.94 2.06-2.06.94zm-11 1L8.5 8.5l.94-2.06 2.06-.94-2.06-.94L8.5 2.5l-.94 2.06-2.06.94zm10 10l.94 2.06.94-2.06 2.06-.94-2.06-.94-.94-2.06-.94 2.06-2.06.94z\"/><path d=\"M17.41 7.96l-1.37-1.37c-.4-.4-.92-.59-1.43-.59-.52 0-1.04.2-1.43.59L10.3 9.45l-7.72 7.72c-.78.78-.78 2.05 0 2.83L4 21.41c.39.39.9.59 1.41.59.51 0 1.02-.2 1.41-.59l7.78-7.78 2.81-2.81c.8-.78.8-2.07 0-2.86zM5.41 20L4 18.59l7.72-7.72 1.47 1.35L5.41 20z\"/>\n",
              "  </svg>\n",
              "      </button>\n",
              "      \n",
              "  <style>\n",
              "    .colab-df-container {\n",
              "      display:flex;\n",
              "      flex-wrap:wrap;\n",
              "      gap: 12px;\n",
              "    }\n",
              "\n",
              "    .colab-df-convert {\n",
              "      background-color: #E8F0FE;\n",
              "      border: none;\n",
              "      border-radius: 50%;\n",
              "      cursor: pointer;\n",
              "      display: none;\n",
              "      fill: #1967D2;\n",
              "      height: 32px;\n",
              "      padding: 0 0 0 0;\n",
              "      width: 32px;\n",
              "    }\n",
              "\n",
              "    .colab-df-convert:hover {\n",
              "      background-color: #E2EBFA;\n",
              "      box-shadow: 0px 1px 2px rgba(60, 64, 67, 0.3), 0px 1px 3px 1px rgba(60, 64, 67, 0.15);\n",
              "      fill: #174EA6;\n",
              "    }\n",
              "\n",
              "    [theme=dark] .colab-df-convert {\n",
              "      background-color: #3B4455;\n",
              "      fill: #D2E3FC;\n",
              "    }\n",
              "\n",
              "    [theme=dark] .colab-df-convert:hover {\n",
              "      background-color: #434B5C;\n",
              "      box-shadow: 0px 1px 3px 1px rgba(0, 0, 0, 0.15);\n",
              "      filter: drop-shadow(0px 1px 2px rgba(0, 0, 0, 0.3));\n",
              "      fill: #FFFFFF;\n",
              "    }\n",
              "  </style>\n",
              "\n",
              "      <script>\n",
              "        const buttonEl =\n",
              "          document.querySelector('#df-1dff3466-d4f4-4f13-a2ca-a776c6c48c43 button.colab-df-convert');\n",
              "        buttonEl.style.display =\n",
              "          google.colab.kernel.accessAllowed ? 'block' : 'none';\n",
              "\n",
              "        async function convertToInteractive(key) {\n",
              "          const element = document.querySelector('#df-1dff3466-d4f4-4f13-a2ca-a776c6c48c43');\n",
              "          const dataTable =\n",
              "            await google.colab.kernel.invokeFunction('convertToInteractive',\n",
              "                                                     [key], {});\n",
              "          if (!dataTable) return;\n",
              "\n",
              "          const docLinkHtml = 'Like what you see? Visit the ' +\n",
              "            '<a target=\"_blank\" href=https://colab.research.google.com/notebooks/data_table.ipynb>data table notebook</a>'\n",
              "            + ' to learn more about interactive tables.';\n",
              "          element.innerHTML = '';\n",
              "          dataTable['output_type'] = 'display_data';\n",
              "          await google.colab.output.renderOutput(dataTable, element);\n",
              "          const docLink = document.createElement('div');\n",
              "          docLink.innerHTML = docLinkHtml;\n",
              "          element.appendChild(docLink);\n",
              "        }\n",
              "      </script>\n",
              "    </div>\n",
              "  </div>\n",
              "  "
            ]
          },
          "metadata": {},
          "execution_count": 5
        }
      ]
    },
    {
      "cell_type": "markdown",
      "metadata": {
        "id": "j-RW_6DZP-Np"
      },
      "source": [
        "### Data Preprocessing"
      ]
    },
    {
      "cell_type": "code",
      "metadata": {
        "id": "A7yu8yC0OlYB",
        "colab": {
          "base_uri": "https://localhost:8080/"
        },
        "outputId": "70b44f82-258c-465e-8640-acbeb77b3e09"
      },
      "source": [
        "import re\n",
        "import nltk\n",
        "\n",
        "nltk.download('stopwords')\n",
        "\n",
        "from nltk.corpus import stopwords\n",
        "from nltk.stem.porter import PorterStemmer\n",
        "ps = PorterStemmer()\n",
        "\n",
        "all_stopwords = stopwords.words('english')\n",
        "all_stopwords.remove('not')"
      ],
      "execution_count": null,
      "outputs": [
        {
          "output_type": "stream",
          "name": "stderr",
          "text": [
            "[nltk_data] Downloading package stopwords to /root/nltk_data...\n",
            "[nltk_data]   Unzipping corpora/stopwords.zip.\n"
          ]
        }
      ]
    },
    {
      "cell_type": "code",
      "metadata": {
        "id": "hXURUSLTOocO"
      },
      "source": [
        "corpus=[]\n",
        "\n",
        "for i in range(0, 1315):\n",
        "  review = re.sub('[^a-zA-Z]', ' ', dataset['Review'][i])\n",
        "  review = review.lower()\n",
        "  review = review.split()\n",
        "  review = [ps.stem(word) for word in review if not word in set(all_stopwords)]\n",
        "  review = ' '.join(review)\n",
        "  corpus.append(review)"
      ],
      "execution_count": null,
      "outputs": []
    },
    {
      "cell_type": "code",
      "metadata": {
        "id": "cmX9tJn98h7M"
      },
      "source": [
        "corpus"
      ],
      "execution_count": null,
      "outputs": []
    },
    {
      "cell_type": "markdown",
      "metadata": {
        "id": "1TctQ_uZQM9A"
      },
      "source": [
        "### Data transformation"
      ]
    },
    {
      "cell_type": "code",
      "metadata": {
        "id": "byh_MglBOsG0"
      },
      "source": [
        "from sklearn.feature_extraction.text import CountVectorizer\n",
        "cv = CountVectorizer(max_features = 1420)"
      ],
      "execution_count": null,
      "outputs": []
    },
    {
      "cell_type": "code",
      "metadata": {
        "id": "KCT0kv6hCN9Y"
      },
      "source": [
        "X = cv.fit_transform(corpus).toarray()\n",
        "y = dataset.iloc[:, -1].values"
      ],
      "execution_count": null,
      "outputs": []
    },
    {
      "cell_type": "code",
      "metadata": {
        "id": "CcbH54t3MZIC"
      },
      "source": [
        "# Saving BoW dictionary to later use in prediction\n",
        "import pickle\n",
        "bow_path = 'c1_BoW_Sentiment_Model.pkl'\n",
        "pickle.dump(cv, open(bow_path, \"wb\"))"
      ],
      "execution_count": null,
      "outputs": []
    },
    {
      "cell_type": "markdown",
      "metadata": {
        "id": "ByyPjrCGQYm0"
      },
      "source": [
        "### Dividing dataset into training and test set"
      ]
    },
    {
      "cell_type": "code",
      "metadata": {
        "id": "g04rl7BZOuGc"
      },
      "source": [
        "from sklearn.model_selection import train_test_split\n",
        "X_train, X_test, y_train, y_test = train_test_split(X, y, test_size = 0.20, random_state = 0)"
      ],
      "execution_count": null,
      "outputs": []
    },
    {
      "cell_type": "markdown",
      "metadata": {
        "id": "AdQY92UPQmsq"
      },
      "source": [
        "### Model fitting (Naive Bayes)"
      ]
    },
    {
      "cell_type": "code",
      "metadata": {
        "id": "JXEUR3trOwrv",
        "colab": {
          "base_uri": "https://localhost:8080/",
          "height": 814
        },
        "outputId": "5d4211b2-790b-4a9f-b5d2-33fe3a0d0258"
      },
      "source": [
        "from sklearn.naive_bayes import GaussianNB\n",
        "from sklearn.metrics import classification_report\n",
        "import matplotlib.pyplot as plt\n",
        "import seaborn as sns\n",
        "\n",
        "\n",
        "\n",
        "classifier = GaussianNB()\n",
        "classifier.fit(X_train, y_train)\n",
        "\n",
        "# Exporting NB Classifier to later use in prediction\n",
        "import joblib\n",
        "joblib.dump(classifier, 'c2_Classifier_Sentiment_Model')\n",
        "\n",
        "y_pred = classifier.predict(X_test)\n",
        "\n",
        "from sklearn.metrics import confusion_matrix, accuracy_score\n",
        "cm = confusion_matrix(y_test, y_pred)\n",
        "print(cm)\n",
        "\n",
        "accuracy_score(y_test, y_pred)\n",
        "\n",
        "\n",
        "# Classification report (Naive Bayes)\n",
        "classification_rep_nb = classification_report(y_test, y_pred)\n",
        "print(\"Naive Bayes Classification Report:\")\n",
        "print(classification_rep_nb)\n",
        "\n",
        "print('Sensitivy: ',cm[1][1]/(cm[1][1]+cm[1][0]))\n",
        "print('Specificity: ',cm[0][0]/(cm[0][0]+cm[0][1]))\n",
        "\n",
        "# Get the predicted labels\n",
        "y_pred = classifier.predict(X_test)\n",
        "\n",
        "# Calculate the confusion matrix\n",
        "cm = confusion_matrix(y_test, y_pred)\n",
        "\n",
        "# Define class labels\n",
        "class_labels = np.unique(np.concatenate((y_test, y_pred)))\n",
        "\n",
        "# Plot the confusion matrix\n",
        "plt.figure(figsize=(8, 6))\n",
        "sns.heatmap(cm, annot=True, cmap='Blues', fmt='d', xticklabels=class_labels, yticklabels=class_labels)\n",
        "\n",
        "# Set the title and axis labels\n",
        "plt.title(\"Confusion Matrix - Naive Bayes\")\n",
        "plt.xlabel(\"Predicted\")\n",
        "plt.ylabel(\"Actual\")\n",
        "\n",
        "# Show the plot\n",
        "plt.show()"
      ],
      "execution_count": null,
      "outputs": [
        {
          "output_type": "stream",
          "name": "stdout",
          "text": [
            "[[80 59]\n",
            " [32 92]]\n",
            "Naive Bayes Classification Report:\n",
            "              precision    recall  f1-score   support\n",
            "\n",
            "           0       0.71      0.58      0.64       139\n",
            "           1       0.61      0.74      0.67       124\n",
            "\n",
            "    accuracy                           0.65       263\n",
            "   macro avg       0.66      0.66      0.65       263\n",
            "weighted avg       0.66      0.65      0.65       263\n",
            "\n",
            "Sensitivy:  0.7419354838709677\n",
            "Specificity:  0.5755395683453237\n"
          ]
        },
        {
          "output_type": "display_data",
          "data": {
            "text/plain": [
              "<Figure size 800x600 with 2 Axes>"
            ],
            "image/png": "[encoded data removed]"
          },
          "metadata": {}
        }
      ]
    },
    {
      "cell_type": "markdown",
      "source": [
        "### Model fitting (SVM)"
      ],
      "metadata": {
        "id": "fbPXqdysEmQg"
      }
    },
    {
      "cell_type": "code",
      "source": [
        "### Model fitting (SVM)\n",
        "from sklearn.svm import SVC\n",
        "from sklearn.metrics import classification_report\n",
        "\n",
        "\n",
        "\n",
        "classifier_svm = SVC(kernel='linear')\n",
        "classifier_svm.fit(X_train, y_train)\n",
        "\n",
        "# Exporting SVM Classifier to later use in prediction\n",
        "joblib.dump(classifier_svm, 'c3_SVM_Sentiment_Model')\n",
        "\n",
        "### Model performance (SVM)\n",
        "y_pred_svm = classifier_svm.predict(X_test)\n",
        "\n",
        "cm_svm = confusion_matrix(y_test, y_pred_svm)\n",
        "print(\"SVM Confusion Matrix:\")\n",
        "print(cm_svm)\n",
        "accuracy_svm = accuracy_score(y_test, y_pred_svm)\n",
        "print(\"SVM Accuracy:\", accuracy_svm)\n",
        "\n",
        "# Classification report (SVM)\n",
        "classification_rep_svm = classification_report(y_test, y_pred_svm)\n",
        "print(\"SVM Classification Report:\")\n",
        "print(classification_rep_svm)\n",
        "\n",
        "print('Sensitivy: ',cm_svm[1][1]/(cm_svm[1][1]+cm_svm[1][0]))\n",
        "print('Specificity: ',cm_svm[0][0]/(cm_svm[0][0]+cm_svm[0][1]))\n",
        "\n",
        "\n",
        "# Get the predicted labels\n",
        "y_pred_svm = classifier_svm.predict(X_test)\n",
        "\n",
        "# Calculate the confusion matrix\n",
        "cm_svm = confusion_matrix(y_test, y_pred_svm)\n",
        "\n",
        "# Define class labels\n",
        "class_labels = np.unique(np.concatenate((y_test, y_pred_svm)))\n",
        "\n",
        "# Plot the confusion matrix\n",
        "plt.figure(figsize=(8, 6))\n",
        "sns.heatmap(cm_svm, annot=True, cmap='Blues', fmt='d', xticklabels=class_labels, yticklabels=class_labels)\n",
        "\n",
        "# Set the title and axis labels\n",
        "plt.title(\"Confusion Matrix - SVM\")\n",
        "plt.xlabel(\"Predicted\")\n",
        "plt.ylabel(\"Actual\")\n",
        "\n",
        "# Show the plot\n",
        "plt.show()\n"
      ],
      "metadata": {
        "colab": {
          "base_uri": "https://localhost:8080/",
          "height": 850
        },
        "id": "2c67UWj5Ee4m",
        "outputId": "d6f74387-fd34-432b-dae8-23dfd66f89a4"
      },
      "execution_count": null,
      "outputs": [
        {
          "output_type": "stream",
          "name": "stdout",
          "text": [
            "SVM Confusion Matrix:\n",
            "[[110  29]\n",
            " [ 36  88]]\n",
            "SVM Accuracy: 0.752851711026616\n",
            "SVM Classification Report:\n",
            "              precision    recall  f1-score   support\n",
            "\n",
            "           0       0.75      0.79      0.77       139\n",
            "           1       0.75      0.71      0.73       124\n",
            "\n",
            "    accuracy                           0.75       263\n",
            "   macro avg       0.75      0.75      0.75       263\n",
            "weighted avg       0.75      0.75      0.75       263\n",
            "\n",
            "Sensitivy:  0.7096774193548387\n",
            "Specificity:  0.7913669064748201\n"
          ]
        },
        {
          "output_type": "display_data",
          "data": {
            "text/plain": [
              "<Figure size 800x600 with 2 Axes>"
            ],
            "image/png": "[encoded data removed]"
          },
          "metadata": {}
        }
      ]
    },
    {
      "cell_type": "markdown",
      "source": [
        "### Model fitting (Random Forest)"
      ],
      "metadata": {
        "id": "ztfL5SLpGeEV"
      }
    },
    {
      "cell_type": "code",
      "source": [
        "### Model fitting (Random Forest)\n",
        "from sklearn.ensemble import RandomForestClassifier\n",
        "\n",
        "classifier_rf = RandomForestClassifier(n_estimators=100, random_state=0)\n",
        "classifier_rf.fit(X_train, y_train)\n",
        "\n",
        "# Exporting Random Forest Classifier to later use in prediction\n",
        "joblib.dump(classifier_rf, 'c3_RF_Sentiment_Model')\n",
        "\n",
        "### Model performance (Random Forest)\n",
        "y_pred_rf = classifier_rf.predict(X_test)\n",
        "\n",
        "cm_rf = confusion_matrix(y_test, y_pred_rf)\n",
        "print(\"Random Forest Confusion Matrix:\")\n",
        "print(cm_rf)\n",
        "accuracy_rf = accuracy_score(y_test, y_pred_rf)\n",
        "print(\"Random Forest Accuracy:\", accuracy_rf)\n",
        "\n",
        "# Classification report (Random Forest)\n",
        "classification_rep_rf = classification_report(y_test, y_pred_rf)\n",
        "print(\"Random Forest Classification Report:\")\n",
        "print(classification_rep_rf)\n",
        "\n",
        "print('Sensitivy: ',cm_rf[1][1]/(cm_rf[1][1]+cm_rf[1][0]))\n",
        "print('Specificity: ',cm_rf[0][0]/(cm_rf[0][0]+cm_rf[0][1]))\n",
        "\n",
        "\n",
        "# Get the predicted labels\n",
        "y_pred_rf = classifier_rf.predict(X_test)\n",
        "\n",
        "# Calculate the confusion matrix\n",
        "cm_rf = confusion_matrix(y_test, y_pred_rf)\n",
        "\n",
        "# Define class labels\n",
        "class_labels = np.unique(np.concatenate((y_test, y_pred_rf)))\n",
        "\n",
        "# Plot the confusion matrix\n",
        "plt.figure(figsize=(8, 6))\n",
        "sns.heatmap(cm_rf, annot=True, cmap='Blues', fmt='d', xticklabels=class_labels, yticklabels=class_labels)\n",
        "\n",
        "# Set the title and axis labels\n",
        "plt.title(\"Confusion Matrix - Random Forest\")\n",
        "plt.xlabel(\"Predicted\")\n",
        "plt.ylabel(\"Actual\")\n",
        "\n",
        "# Show the plot\n",
        "plt.show()"
      ],
      "metadata": {
        "colab": {
          "base_uri": "https://localhost:8080/",
          "height": 850
        },
        "id": "RYHwvKQMGZoe",
        "outputId": "6e15e1bb-def0-4aad-dd99-ed4c42dd0bac"
      },
      "execution_count": null,
      "outputs": [
        {
          "output_type": "stream",
          "name": "stdout",
          "text": [
            "Random Forest Confusion Matrix:\n",
            "[[115  24]\n",
            " [ 43  81]]\n",
            "Random Forest Accuracy: 0.7452471482889734\n",
            "Random Forest Classification Report:\n",
            "              precision    recall  f1-score   support\n",
            "\n",
            "           0       0.73      0.83      0.77       139\n",
            "           1       0.77      0.65      0.71       124\n",
            "\n",
            "    accuracy                           0.75       263\n",
            "   macro avg       0.75      0.74      0.74       263\n",
            "weighted avg       0.75      0.75      0.74       263\n",
            "\n",
            "Sensitivy:  0.6532258064516129\n",
            "Specificity:  0.8273381294964028\n"
          ]
        },
        {
          "output_type": "display_data",
          "data": {
            "text/plain": [
              "<Figure size 800x600 with 2 Axes>"
            ],
            "image/png": "[encoded data removed]"
          },
          "metadata": {}
        }
      ]
    },
    {
      "cell_type": "markdown",
      "source": [
        "### Model fitting (Gradient Boosting)"
      ],
      "metadata": {
        "id": "AgkJ6sniG3Q0"
      }
    },
    {
      "cell_type": "code",
      "source": [
        "### Model fitting (Gradient Boosting)\n",
        "from sklearn.ensemble import GradientBoostingClassifier\n",
        "\n",
        "classifier_gb = GradientBoostingClassifier(n_estimators=100, random_state=0)\n",
        "classifier_gb.fit(X_train, y_train)\n",
        "\n",
        "# Exporting Gradient Boosting Classifier to later use in prediction\n",
        "joblib.dump(classifier_gb, 'c4_GB_Sentiment_Model')\n",
        "\n",
        "### Model performance (Gradient Boosting)\n",
        "y_pred_gb = classifier_gb.predict(X_test)\n",
        "\n",
        "cm_gb = confusion_matrix(y_test, y_pred_gb)\n",
        "print(\"Gradient Boosting Confusion Matrix:\")\n",
        "print(cm_gb)\n",
        "accuracy_gb = accuracy_score(y_test, y_pred_gb)\n",
        "print(\"Gradient Boosting Accuracy:\", accuracy_gb)\n",
        "\n",
        "# Classification report (Gradient Boosting)\n",
        "classification_rep_gb = classification_report(y_test, y_pred_gb)\n",
        "print(\"Gradient Boosting Classification Report:\")\n",
        "print(classification_rep_gb)\n",
        "\n",
        "print('Sensitivy: ',cm_gb[1][1]/(cm_gb[1][1]+cm_gb[1][0]))\n",
        "print('Specificity: ',cm_gb[0][0]/(cm_gb[0][0]+cm_gb[0][1]))\n",
        "\n",
        "\n",
        "\n",
        "# Get the predicted labels\n",
        "y_pred_gb = classifier_gb.predict(X_test)\n",
        "\n",
        "# Calculate the confusion matrix\n",
        "cm_gb = confusion_matrix(y_test, y_pred_gb)\n",
        "\n",
        "# Define class labels\n",
        "class_labels = np.unique(np.concatenate((y_test, y_pred_gb)))\n",
        "\n",
        "# Plot the confusion matrix\n",
        "plt.figure(figsize=(8, 6))\n",
        "sns.heatmap(cm_gb, annot=True, cmap='Blues', fmt='d', xticklabels=class_labels, yticklabels=class_labels)\n",
        "\n",
        "# Set the title and axis labels\n",
        "plt.title(\"Confusion Matrix - Gradient Boosting\")\n",
        "plt.xlabel(\"Predicted\")\n",
        "plt.ylabel(\"Actual\")\n",
        "\n",
        "# Show the plot\n",
        "plt.show()"
      ],
      "metadata": {
        "colab": {
          "base_uri": "https://localhost:8080/",
          "height": 850
        },
        "id": "mAGoDJHVG6SH",
        "outputId": "76c46d48-6af2-44d3-d19a-8bef4b780583"
      },
      "execution_count": null,
      "outputs": [
        {
          "output_type": "stream",
          "name": "stdout",
          "text": [
            "Gradient Boosting Confusion Matrix:\n",
            "[[135   4]\n",
            " [ 58  66]]\n",
            "Gradient Boosting Accuracy: 0.7642585551330798\n",
            "Gradient Boosting Classification Report:\n",
            "              precision    recall  f1-score   support\n",
            "\n",
            "           0       0.70      0.97      0.81       139\n",
            "           1       0.94      0.53      0.68       124\n",
            "\n",
            "    accuracy                           0.76       263\n",
            "   macro avg       0.82      0.75      0.75       263\n",
            "weighted avg       0.81      0.76      0.75       263\n",
            "\n",
            "Sensitivy:  0.532258064516129\n",
            "Specificity:  0.9712230215827338\n"
          ]
        },
        {
          "output_type": "display_data",
          "data": {
            "text/plain": [
              "<Figure size 800x600 with 2 Axes>"
            ],
            "image/png": "[encoded data removed]"
          },
          "metadata": {}
        }
      ]
    },
    {
      "cell_type": "markdown",
      "source": [
        "### Model fitting (Logistic Regression)"
      ],
      "metadata": {
        "id": "mkVcJ6XeHfnt"
      }
    },
    {
      "cell_type": "code",
      "source": [
        "### Model fitting (Logistic Regression)\n",
        "from sklearn.linear_model import LogisticRegression\n",
        "\n",
        "classifier_lr = LogisticRegression(random_state=0)\n",
        "classifier_lr.fit(X_train, y_train)\n",
        "\n",
        "# Exporting Logistic Regression Classifier to later use in prediction\n",
        "joblib.dump(classifier_lr, 'c5_LR_Sentiment_Model')\n",
        "\n",
        "### Model performance (Logistic Regression)\n",
        "y_pred_lr = classifier_lr.predict(X_test)\n",
        "\n",
        "cm_lr = confusion_matrix(y_test, y_pred_lr)\n",
        "print(\"Logistic Regression Confusion Matrix:\")\n",
        "print(cm_lr)\n",
        "accuracy_lr = accuracy_score(y_test, y_pred_lr)\n",
        "print(\"Logistic Regression Accuracy:\", accuracy_lr)\n",
        "\n",
        "# Classification report (Logistic Regression)\n",
        "classification_rep_lr = classification_report(y_test, y_pred_lr)\n",
        "print(\"Logistic Regression Classification Report:\")\n",
        "print(classification_rep_lr)\n",
        "\n",
        "print('Sensitivy: ',cm_lr[1][1]/(cm_lr[1][1]+cm_lr[1][0]))\n",
        "print('Specificity: ',cm_lr[0][0]/(cm_lr[0][0]+cm_lr[0][1]))\n",
        "\n",
        "import numpy as np\n",
        "import matplotlib.pyplot as plt\n",
        "import seaborn as sns\n",
        "from sklearn.metrics import confusion_matrix\n",
        "\n",
        "\n",
        "# Get the predicted labels\n",
        "y_pred_lr = classifier_lr.predict(X_test)\n",
        "\n",
        "# Calculate the confusion matrix\n",
        "cm_lr = confusion_matrix(y_test, y_pred_lr)\n",
        "\n",
        "# Define class labels\n",
        "class_labels = np.unique(np.concatenate((y_test, y_pred_lr)))\n",
        "\n",
        "# Plot the confusion matrix\n",
        "plt.figure(figsize=(8, 6))\n",
        "sns.heatmap(cm_lr, annot=True, cmap='Blues', fmt='d', xticklabels=class_labels, yticklabels=class_labels)\n",
        "\n",
        "# Set the title and axis labels\n",
        "plt.title(\"Confusion Matrix - Logistic Regression\")\n",
        "plt.xlabel(\"Predicted\")\n",
        "plt.ylabel(\"Actual\")\n",
        "\n",
        "# Show the plot\n",
        "plt.show()"
      ],
      "metadata": {
        "colab": {
          "base_uri": "https://localhost:8080/",
          "height": 850
        },
        "id": "F1geo55CHh1s",
        "outputId": "5b78cbac-b2f5-445d-cfd6-2c3ccc58bbba"
      },
      "execution_count": null,
      "outputs": [
        {
          "output_type": "stream",
          "name": "stdout",
          "text": [
            "Logistic Regression Confusion Matrix:\n",
            "[[114  25]\n",
            " [ 35  89]]\n",
            "Logistic Regression Accuracy: 0.7718631178707225\n",
            "Logistic Regression Classification Report:\n",
            "              precision    recall  f1-score   support\n",
            "\n",
            "           0       0.77      0.82      0.79       139\n",
            "           1       0.78      0.72      0.75       124\n",
            "\n",
            "    accuracy                           0.77       263\n",
            "   macro avg       0.77      0.77      0.77       263\n",
            "weighted avg       0.77      0.77      0.77       263\n",
            "\n",
            "Sensitivy:  0.717741935483871\n",
            "Specificity:  0.8201438848920863\n"
          ]
        },
        {
          "output_type": "display_data",
          "data": {
            "text/plain": [
              "<Figure size 800x600 with 2 Axes>"
            ],
            "image/png": "[encoded data removed]"
          },
          "metadata": {}
        }
      ]
    },
    {
      "cell_type": "code",
      "source": [
        "# Create a list of model names and their corresponding accuracies\n",
        "model_names = ['Naive Bayes', 'SVM', 'Random Forest', 'Gradient Boosting', 'Logistic Regression']\n",
        "accuracies = [accuracy_score(y_test, y_pred), accuracy_svm, accuracy_rf, accuracy_gb, accuracy_lr]\n",
        "\n",
        "# Plot the bar chart\n",
        "plt.figure(figsize=(10, 6))\n",
        "sns.barplot(x=model_names, y=accuracies, palette='Blues')\n",
        "\n",
        "# Add labels and title\n",
        "plt.xlabel('Model')\n",
        "plt.ylabel('Accuracy')\n",
        "plt.title('Comparison of Model Accuracies')\n",
        "\n",
        "# Display the plot\n",
        "plt.show()\n"
      ],
      "metadata": {
        "id": "kqiyjGTuIfst",
        "colab": {
          "base_uri": "https://localhost:8080/",
          "height": 564
        },
        "outputId": "42d87cd4-6596-4160-95de-174e132531a7"
      },
      "execution_count": null,
      "outputs": [
        {
          "output_type": "display_data",
          "data": {
            "text/plain": [
              "<Figure size 1000x600 with 1 Axes>"
            ],
            "image/png": "[encoded data removed]"
          },
          "metadata": {}
        }
      ]
    }
  ]
}