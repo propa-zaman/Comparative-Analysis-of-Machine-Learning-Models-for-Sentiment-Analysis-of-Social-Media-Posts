{
  "nbformat": 4,
  "nbformat_minor": 0,
  "metadata": {
    "colab": {
      "provenance": []
    },
    "kernelspec": {
      "name": "python3",
      "display_name": "Python 3"
    },
    "language_info": {
      "name": "python"
    }
  },
  "cells": [
    {
      "cell_type": "code",
      "execution_count": null,
      "metadata": {
        "colab": {
          "base_uri": "https://localhost:8080/"
        },
        "id": "Kl0tTRK_BYnH",
        "outputId": "35531a6f-c6dc-4909-9166-038bba1b27cb"
      },
      "outputs": [
        {
          "output_type": "stream",
          "name": "stdout",
          "text": [
            "Mounted at /content/drive\n"
          ]
        }
      ],
      "source": [
        "import os\n",
        "\n",
        "# Mount Google Drive\n",
        "from google.colab import drive\n",
        "drive.mount('/content/drive')\n",
        "\n",
        "# Access folder in Google Drive\n",
        "folder_path = '/content/drive/MyDrive/AI Project'\n",
        "os.chdir(folder_path)"
      ]
    },
    {
      "cell_type": "code",
      "metadata": {
        "id": "UA-jPWIqK59Q"
      },
      "source": [
        "import numpy as np\n",
        "import pandas as pd"
      ],
      "execution_count": null,
      "outputs": []
    },
    {
      "cell_type": "markdown",
      "metadata": {
        "id": "jAkmz2o3Ps_f"
      },
      "source": [
        "### Importing dataset\n",
        "\n",
        "\n"
      ]
    },
    {
      "cell_type": "code",
      "source": [
        "dataset = pd.read_csv('/content/drive/MyDrive/AI Project/datasets/comments.csv')"
      ],
      "metadata": {
        "id": "LmUw5FoLCeW1"
      },
      "execution_count": null,
      "outputs": []
    },
    {
      "cell_type": "code",
      "metadata": {
        "id": "5I60cmjOPxSY",
        "colab": {
          "base_uri": "https://localhost:8080/"
        },
        "outputId": "39776a3d-b6de-459b-dc9c-3851c2cb07cc"
      },
      "source": [
        "dataset.shape\n"
      ],
      "execution_count": null,
      "outputs": [
        {
          "output_type": "execute_result",
          "data": {
            "text/plain": [
              "(18409, 5)"
            ]
          },
          "metadata": {},
          "execution_count": 4
        }
      ]
    },
    {
      "cell_type": "code",
      "source": [
        "dataset=dataset.head(9000)\n",
        "dataset.shape"
      ],
      "metadata": {
        "colab": {
          "base_uri": "https://localhost:8080/"
        },
        "id": "fuvyhnYwC8Av",
        "outputId": "b974b3dd-9147-49af-95df-7de851c370d8"
      },
      "execution_count": null,
      "outputs": [
        {
          "output_type": "execute_result",
          "data": {
            "text/plain": [
              "(9000, 5)"
            ]
          },
          "metadata": {},
          "execution_count": 5
        }
      ]
    },
    {
      "cell_type": "code",
      "metadata": {
        "id": "OogtEOYrO-CW",
        "colab": {
          "base_uri": "https://localhost:8080/",
          "height": 206
        },
        "outputId": "b877cb14-2311-4095-de71-85863e7516fc"
      },
      "source": [
        "dataset.head()"
      ],
      "execution_count": null,
      "outputs": [
        {
          "output_type": "execute_result",
          "data": {
            "text/plain": [
              "   Unnamed: 0     Video ID                                            Comment  \\\n",
              "0           0  wAZZ-UWGVHI  Let's not forget that Apple Pay in 2014 requir...   \n",
              "1           1  wAZZ-UWGVHI  Here in NZ 50% of retailers don’t even have co...   \n",
              "2           2  wAZZ-UWGVHI  I will forever acknowledge this channel with t...   \n",
              "3           3  wAZZ-UWGVHI  Whenever I go to a place that doesn’t take App...   \n",
              "4           4  wAZZ-UWGVHI  Apple Pay is so convenient, secure, and easy t...   \n",
              "\n",
              "   Likes  Sentiment  \n",
              "0   95.0        1.0  \n",
              "1   19.0        0.0  \n",
              "2  161.0        2.0  \n",
              "3    8.0        0.0  \n",
              "4   34.0        2.0  "
            ],
            "text/html": [
              "\n",
              "  <div id=\"df-1e73432a-ae44-4334-98d0-629187e87c04\">\n",
              "    <div class=\"colab-df-container\">\n",
              "      <div>\n",
              "<style scoped>\n",
              "    .dataframe tbody tr th:only-of-type {\n",
              "        vertical-align: middle;\n",
              "    }\n",
              "\n",
              "    .dataframe tbody tr th {\n",
              "        vertical-align: top;\n",
              "    }\n",
              "\n",
              "    .dataframe thead th {\n",
              "        text-align: right;\n",
              "    }\n",
              "</style>\n",
              "<table border=\"1\" class=\"dataframe\">\n",
              "  <thead>\n",
              "    <tr style=\"text-align: right;\">\n",
              "      <th></th>\n",
              "      <th>Unnamed: 0</th>\n",
              "      <th>Video ID</th>\n",
              "      <th>Comment</th>\n",
              "      <th>Likes</th>\n",
              "      <th>Sentiment</th>\n",
              "    </tr>\n",
              "  </thead>\n",
              "  <tbody>\n",
              "    <tr>\n",
              "      <th>0</th>\n",
              "      <td>0</td>\n",
              "      <td>wAZZ-UWGVHI</td>\n",
              "      <td>Let's not forget that Apple Pay in 2014 requir...</td>\n",
              "      <td>95.0</td>\n",
              "      <td>1.0</td>\n",
              "    </tr>\n",
              "    <tr>\n",
              "      <th>1</th>\n",
              "      <td>1</td>\n",
              "      <td>wAZZ-UWGVHI</td>\n",
              "      <td>Here in NZ 50% of retailers don’t even have co...</td>\n",
              "      <td>19.0</td>\n",
              "      <td>0.0</td>\n",
              "    </tr>\n",
              "    <tr>\n",
              "      <th>2</th>\n",
              "      <td>2</td>\n",
              "      <td>wAZZ-UWGVHI</td>\n",
              "      <td>I will forever acknowledge this channel with t...</td>\n",
              "      <td>161.0</td>\n",
              "      <td>2.0</td>\n",
              "    </tr>\n",
              "    <tr>\n",
              "      <th>3</th>\n",
              "      <td>3</td>\n",
              "      <td>wAZZ-UWGVHI</td>\n",
              "      <td>Whenever I go to a place that doesn’t take App...</td>\n",
              "      <td>8.0</td>\n",
              "      <td>0.0</td>\n",
              "    </tr>\n",
              "    <tr>\n",
              "      <th>4</th>\n",
              "      <td>4</td>\n",
              "      <td>wAZZ-UWGVHI</td>\n",
              "      <td>Apple Pay is so convenient, secure, and easy t...</td>\n",
              "      <td>34.0</td>\n",
              "      <td>2.0</td>\n",
              "    </tr>\n",
              "  </tbody>\n",
              "</table>\n",
              "</div>\n",
              "      <button class=\"colab-df-convert\" onclick=\"convertToInteractive('df-1e73432a-ae44-4334-98d0-629187e87c04')\"\n",
              "              title=\"Convert this dataframe to an interactive table.\"\n",
              "              style=\"display:none;\">\n",
              "        \n",
              "  <svg xmlns=\"http://www.w3.org/2000/svg\" height=\"24px\"viewBox=\"0 0 24 24\"\n",
              "       width=\"24px\">\n",
              "    <path d=\"M0 0h24v24H0V0z\" fill=\"none\"/>\n",
              "    <path d=\"M18.56 5.44l.94 2.06.94-2.06 2.06-.94-2.06-.94-.94-2.06-.94 2.06-2.06.94zm-11 1L8.5 8.5l.94-2.06 2.06-.94-2.06-.94L8.5 2.5l-.94 2.06-2.06.94zm10 10l.94 2.06.94-2.06 2.06-.94-2.06-.94-.94-2.06-.94 2.06-2.06.94z\"/><path d=\"M17.41 7.96l-1.37-1.37c-.4-.4-.92-.59-1.43-.59-.52 0-1.04.2-1.43.59L10.3 9.45l-7.72 7.72c-.78.78-.78 2.05 0 2.83L4 21.41c.39.39.9.59 1.41.59.51 0 1.02-.2 1.41-.59l7.78-7.78 2.81-2.81c.8-.78.8-2.07 0-2.86zM5.41 20L4 18.59l7.72-7.72 1.47 1.35L5.41 20z\"/>\n",
              "  </svg>\n",
              "      </button>\n",
              "      \n",
              "  <style>\n",
              "    .colab-df-container {\n",
              "      display:flex;\n",
              "      flex-wrap:wrap;\n",
              "      gap: 12px;\n",
              "    }\n",
              "\n",
              "    .colab-df-convert {\n",
              "      background-color: #E8F0FE;\n",
              "      border: none;\n",
              "      border-radius: 50%;\n",
              "      cursor: pointer;\n",
              "      display: none;\n",
              "      fill: #1967D2;\n",
              "      height: 32px;\n",
              "      padding: 0 0 0 0;\n",
              "      width: 32px;\n",
              "    }\n",
              "\n",
              "    .colab-df-convert:hover {\n",
              "      background-color: #E2EBFA;\n",
              "      box-shadow: 0px 1px 2px rgba(60, 64, 67, 0.3), 0px 1px 3px 1px rgba(60, 64, 67, 0.15);\n",
              "      fill: #174EA6;\n",
              "    }\n",
              "\n",
              "    [theme=dark] .colab-df-convert {\n",
              "      background-color: #3B4455;\n",
              "      fill: #D2E3FC;\n",
              "    }\n",
              "\n",
              "    [theme=dark] .colab-df-convert:hover {\n",
              "      background-color: #434B5C;\n",
              "      box-shadow: 0px 1px 3px 1px rgba(0, 0, 0, 0.15);\n",
              "      filter: drop-shadow(0px 1px 2px rgba(0, 0, 0, 0.3));\n",
              "      fill: #FFFFFF;\n",
              "    }\n",
              "  </style>\n",
              "\n",
              "      <script>\n",
              "        const buttonEl =\n",
              "          document.querySelector('#df-1e73432a-ae44-4334-98d0-629187e87c04 button.colab-df-convert');\n",
              "        buttonEl.style.display =\n",
              "          google.colab.kernel.accessAllowed ? 'block' : 'none';\n",
              "\n",
              "        async function convertToInteractive(key) {\n",
              "          const element = document.querySelector('#df-1e73432a-ae44-4334-98d0-629187e87c04');\n",
              "          const dataTable =\n",
              "            await google.colab.kernel.invokeFunction('convertToInteractive',\n",
              "                                                     [key], {});\n",
              "          if (!dataTable) return;\n",
              "\n",
              "          const docLinkHtml = 'Like what you see? Visit the ' +\n",
              "            '<a target=\"_blank\" href=https://colab.research.google.com/notebooks/data_table.ipynb>data table notebook</a>'\n",
              "            + ' to learn more about interactive tables.';\n",
              "          element.innerHTML = '';\n",
              "          dataTable['output_type'] = 'display_data';\n",
              "          await google.colab.output.renderOutput(dataTable, element);\n",
              "          const docLink = document.createElement('div');\n",
              "          docLink.innerHTML = docLinkHtml;\n",
              "          element.appendChild(docLink);\n",
              "        }\n",
              "      </script>\n",
              "    </div>\n",
              "  </div>\n",
              "  "
            ]
          },
          "metadata": {},
          "execution_count": 6
        }
      ]
    },
    {
      "cell_type": "code",
      "source": [
        "# Define the names of the columns you want to drop\n",
        "column_names = ['Unnamed: 0', 'Video ID', 'Likes']  # Names of the columns to drop\n",
        "\n",
        "# Drop the specified columns\n",
        "dataset = dataset.drop(column_names, axis=1)"
      ],
      "metadata": {
        "id": "WrMac61aNeMe"
      },
      "execution_count": null,
      "outputs": []
    },
    {
      "cell_type": "code",
      "source": [
        "dataset.head()"
      ],
      "metadata": {
        "colab": {
          "base_uri": "https://localhost:8080/",
          "height": 206
        },
        "id": "9LPxyaq_Nw9B",
        "outputId": "e35009b3-be9c-475b-97a8-1f9543f3d748"
      },
      "execution_count": null,
      "outputs": [
        {
          "output_type": "execute_result",
          "data": {
            "text/plain": [
              "                                             Comment  Sentiment\n",
              "0  Let's not forget that Apple Pay in 2014 requir...        1.0\n",
              "1  Here in NZ 50% of retailers don’t even have co...        0.0\n",
              "2  I will forever acknowledge this channel with t...        2.0\n",
              "3  Whenever I go to a place that doesn’t take App...        0.0\n",
              "4  Apple Pay is so convenient, secure, and easy t...        2.0"
            ],
            "text/html": [
              "\n",
              "  <div id=\"df-2b33ac2e-0f73-4371-9782-04a450710582\">\n",
              "    <div class=\"colab-df-container\">\n",
              "      <div>\n",
              "<style scoped>\n",
              "    .dataframe tbody tr th:only-of-type {\n",
              "        vertical-align: middle;\n",
              "    }\n",
              "\n",
              "    .dataframe tbody tr th {\n",
              "        vertical-align: top;\n",
              "    }\n",
              "\n",
              "    .dataframe thead th {\n",
              "        text-align: right;\n",
              "    }\n",
              "</style>\n",
              "<table border=\"1\" class=\"dataframe\">\n",
              "  <thead>\n",
              "    <tr style=\"text-align: right;\">\n",
              "      <th></th>\n",
              "      <th>Comment</th>\n",
              "      <th>Sentiment</th>\n",
              "    </tr>\n",
              "  </thead>\n",
              "  <tbody>\n",
              "    <tr>\n",
              "      <th>0</th>\n",
              "      <td>Let's not forget that Apple Pay in 2014 requir...</td>\n",
              "      <td>1.0</td>\n",
              "    </tr>\n",
              "    <tr>\n",
              "      <th>1</th>\n",
              "      <td>Here in NZ 50% of retailers don’t even have co...</td>\n",
              "      <td>0.0</td>\n",
              "    </tr>\n",
              "    <tr>\n",
              "      <th>2</th>\n",
              "      <td>I will forever acknowledge this channel with t...</td>\n",
              "      <td>2.0</td>\n",
              "    </tr>\n",
              "    <tr>\n",
              "      <th>3</th>\n",
              "      <td>Whenever I go to a place that doesn’t take App...</td>\n",
              "      <td>0.0</td>\n",
              "    </tr>\n",
              "    <tr>\n",
              "      <th>4</th>\n",
              "      <td>Apple Pay is so convenient, secure, and easy t...</td>\n",
              "      <td>2.0</td>\n",
              "    </tr>\n",
              "  </tbody>\n",
              "</table>\n",
              "</div>\n",
              "      <button class=\"colab-df-convert\" onclick=\"convertToInteractive('df-2b33ac2e-0f73-4371-9782-04a450710582')\"\n",
              "              title=\"Convert this dataframe to an interactive table.\"\n",
              "              style=\"display:none;\">\n",
              "        \n",
              "  <svg xmlns=\"http://www.w3.org/2000/svg\" height=\"24px\"viewBox=\"0 0 24 24\"\n",
              "       width=\"24px\">\n",
              "    <path d=\"M0 0h24v24H0V0z\" fill=\"none\"/>\n",
              "    <path d=\"M18.56 5.44l.94 2.06.94-2.06 2.06-.94-2.06-.94-.94-2.06-.94 2.06-2.06.94zm-11 1L8.5 8.5l.94-2.06 2.06-.94-2.06-.94L8.5 2.5l-.94 2.06-2.06.94zm10 10l.94 2.06.94-2.06 2.06-.94-2.06-.94-.94-2.06-.94 2.06-2.06.94z\"/><path d=\"M17.41 7.96l-1.37-1.37c-.4-.4-.92-.59-1.43-.59-.52 0-1.04.2-1.43.59L10.3 9.45l-7.72 7.72c-.78.78-.78 2.05 0 2.83L4 21.41c.39.39.9.59 1.41.59.51 0 1.02-.2 1.41-.59l7.78-7.78 2.81-2.81c.8-.78.8-2.07 0-2.86zM5.41 20L4 18.59l7.72-7.72 1.47 1.35L5.41 20z\"/>\n",
              "  </svg>\n",
              "      </button>\n",
              "      \n",
              "  <style>\n",
              "    .colab-df-container {\n",
              "      display:flex;\n",
              "      flex-wrap:wrap;\n",
              "      gap: 12px;\n",
              "    }\n",
              "\n",
              "    .colab-df-convert {\n",
              "      background-color: #E8F0FE;\n",
              "      border: none;\n",
              "      border-radius: 50%;\n",
              "      cursor: pointer;\n",
              "      display: none;\n",
              "      fill: #1967D2;\n",
              "      height: 32px;\n",
              "      padding: 0 0 0 0;\n",
              "      width: 32px;\n",
              "    }\n",
              "\n",
              "    .colab-df-convert:hover {\n",
              "      background-color: #E2EBFA;\n",
              "      box-shadow: 0px 1px 2px rgba(60, 64, 67, 0.3), 0px 1px 3px 1px rgba(60, 64, 67, 0.15);\n",
              "      fill: #174EA6;\n",
              "    }\n",
              "\n",
              "    [theme=dark] .colab-df-convert {\n",
              "      background-color: #3B4455;\n",
              "      fill: #D2E3FC;\n",
              "    }\n",
              "\n",
              "    [theme=dark] .colab-df-convert:hover {\n",
              "      background-color: #434B5C;\n",
              "      box-shadow: 0px 1px 3px 1px rgba(0, 0, 0, 0.15);\n",
              "      filter: drop-shadow(0px 1px 2px rgba(0, 0, 0, 0.3));\n",
              "      fill: #FFFFFF;\n",
              "    }\n",
              "  </style>\n",
              "\n",
              "      <script>\n",
              "        const buttonEl =\n",
              "          document.querySelector('#df-2b33ac2e-0f73-4371-9782-04a450710582 button.colab-df-convert');\n",
              "        buttonEl.style.display =\n",
              "          google.colab.kernel.accessAllowed ? 'block' : 'none';\n",
              "\n",
              "        async function convertToInteractive(key) {\n",
              "          const element = document.querySelector('#df-2b33ac2e-0f73-4371-9782-04a450710582');\n",
              "          const dataTable =\n",
              "            await google.colab.kernel.invokeFunction('convertToInteractive',\n",
              "                                                     [key], {});\n",
              "          if (!dataTable) return;\n",
              "\n",
              "          const docLinkHtml = 'Like what you see? Visit the ' +\n",
              "            '<a target=\"_blank\" href=https://colab.research.google.com/notebooks/data_table.ipynb>data table notebook</a>'\n",
              "            + ' to learn more about interactive tables.';\n",
              "          element.innerHTML = '';\n",
              "          dataTable['output_type'] = 'display_data';\n",
              "          await google.colab.output.renderOutput(dataTable, element);\n",
              "          const docLink = document.createElement('div');\n",
              "          docLink.innerHTML = docLinkHtml;\n",
              "          element.appendChild(docLink);\n",
              "        }\n",
              "      </script>\n",
              "    </div>\n",
              "  </div>\n",
              "  "
            ]
          },
          "metadata": {},
          "execution_count": 8
        }
      ]
    },
    {
      "cell_type": "markdown",
      "metadata": {
        "id": "j-RW_6DZP-Np"
      },
      "source": [
        "### Data Preprocessing"
      ]
    },
    {
      "cell_type": "code",
      "metadata": {
        "id": "A7yu8yC0OlYB",
        "colab": {
          "base_uri": "https://localhost:8080/"
        },
        "outputId": "646ef75e-c2e7-4cfb-8739-a59a07a14700"
      },
      "source": [
        "import re\n",
        "import nltk\n",
        "\n",
        "nltk.download('stopwords')\n",
        "\n",
        "from nltk.corpus import stopwords\n",
        "from nltk.stem.porter import PorterStemmer\n",
        "ps = PorterStemmer()\n",
        "\n",
        "all_stopwords = stopwords.words('english')\n",
        "all_stopwords.remove('not')"
      ],
      "execution_count": null,
      "outputs": [
        {
          "output_type": "stream",
          "name": "stderr",
          "text": [
            "[nltk_data] Downloading package stopwords to /root/nltk_data...\n",
            "[nltk_data]   Unzipping corpora/stopwords.zip.\n"
          ]
        }
      ]
    },
    {
      "cell_type": "code",
      "metadata": {
        "id": "hXURUSLTOocO"
      },
      "source": [
        "import re\n",
        "\n",
        "corpus = []\n",
        "ps = PorterStemmer()\n",
        "all_stopwords = set(stopwords.words('english'))\n",
        "\n",
        "for i in range(0, 9000):\n",
        "    text = dataset['Comment'][i]\n",
        "    if isinstance(text, str):\n",
        "        comment = re.sub('[^a-zA-Z]', ' ', text)\n",
        "        comment = comment.lower()\n",
        "        comment = comment.split()\n",
        "        comment = [ps.stem(word) for word in comment if not word in all_stopwords]\n",
        "        comment = ' '.join(comment)\n",
        "        corpus.append(comment)\n",
        "    else:\n",
        "        print(f\"Invalid data at index {i} in 'clean_text': {text}\")\n"
      ],
      "execution_count": null,
      "outputs": []
    },
    {
      "cell_type": "code",
      "metadata": {
        "id": "cmX9tJn98h7M"
      },
      "source": [
        "corpus"
      ],
      "execution_count": null,
      "outputs": []
    },
    {
      "cell_type": "markdown",
      "metadata": {
        "id": "1TctQ_uZQM9A"
      },
      "source": [
        "### Data transformation"
      ]
    },
    {
      "cell_type": "code",
      "metadata": {
        "id": "byh_MglBOsG0"
      },
      "source": [
        "from sklearn.feature_extraction.text import CountVectorizer\n",
        "cv = CountVectorizer(max_features = 1420)"
      ],
      "execution_count": null,
      "outputs": []
    },
    {
      "cell_type": "code",
      "metadata": {
        "id": "KCT0kv6hCN9Y"
      },
      "source": [
        "X = cv.fit_transform(corpus).toarray()\n",
        "y = dataset.iloc[:, -1].values"
      ],
      "execution_count": null,
      "outputs": []
    },
    {
      "cell_type": "code",
      "metadata": {
        "id": "CcbH54t3MZIC"
      },
      "source": [
        "# Saving BoW dictionary to later use in prediction\n",
        "import pickle\n",
        "bow_path = 'c1_BoW_Sentiment_Model.pkl'\n",
        "pickle.dump(cv, open(bow_path, \"wb\"))"
      ],
      "execution_count": null,
      "outputs": []
    },
    {
      "cell_type": "markdown",
      "metadata": {
        "id": "ByyPjrCGQYm0"
      },
      "source": [
        "### Dividing dataset into training and test set"
      ]
    },
    {
      "cell_type": "code",
      "metadata": {
        "id": "g04rl7BZOuGc"
      },
      "source": [
        "from sklearn.model_selection import train_test_split\n",
        "\n",
        "if len(X) == len(y):\n",
        "    X_train, X_test, y_train, y_test = train_test_split(X, y, test_size=0.20, random_state=0)\n",
        "else:\n",
        "    # Adjust the data to have the same number of samples\n",
        "    X = X[:999]  # Remove the extra sample from X\n",
        "    X_train, X_test, y_train, y_test = train_test_split(X, y, test_size=0.20, random_state=0)\n"
      ],
      "execution_count": null,
      "outputs": []
    },
    {
      "cell_type": "markdown",
      "metadata": {
        "id": "AdQY92UPQmsq"
      },
      "source": [
        "### Model fitting (Naive Bayes)"
      ]
    },
    {
      "cell_type": "code",
      "metadata": {
        "id": "JXEUR3trOwrv",
        "colab": {
          "base_uri": "https://localhost:8080/",
          "height": 850
        },
        "outputId": "b669314e-e4b6-4cc7-ed33-e33fd57bc2ba"
      },
      "source": [
        "from sklearn.naive_bayes import GaussianNB\n",
        "from sklearn.metrics import classification_report\n",
        "import matplotlib.pyplot as plt\n",
        "import seaborn as sns\n",
        "\n",
        "\n",
        "\n",
        "classifier = GaussianNB()\n",
        "classifier.fit(X_train, y_train)\n",
        "\n",
        "# Exporting NB Classifier to later use in prediction\n",
        "import joblib\n",
        "joblib.dump(classifier, 'c2_Classifier_Sentiment_Model')\n",
        "\n",
        "y_pred = classifier.predict(X_test)\n",
        "\n",
        "from sklearn.metrics import confusion_matrix, accuracy_score\n",
        "cm = confusion_matrix(y_test, y_pred)\n",
        "print(cm)\n",
        "\n",
        "accuracy_score(y_test, y_pred)\n",
        "\n",
        "\n",
        "# Classification report (Naive Bayes)\n",
        "classification_rep_nb = classification_report(y_test, y_pred)\n",
        "print(\"Naive Bayes Classification Report:\")\n",
        "print(classification_rep_nb)\n",
        "\n",
        "print('Sensitivy: ',cm[1][1]/(cm[1][1]+cm[1][0]))\n",
        "print('Specificity: ',cm[0][0]/(cm[0][0]+cm[0][1]))\n",
        "\n",
        "# Get the predicted labels\n",
        "y_pred = classifier.predict(X_test)\n",
        "\n",
        "# Calculate the confusion matrix\n",
        "cm = confusion_matrix(y_test, y_pred)\n",
        "\n",
        "# Define class labels\n",
        "class_labels = np.unique(np.concatenate((y_test, y_pred)))\n",
        "\n",
        "# Plot the confusion matrix\n",
        "plt.figure(figsize=(8, 6))\n",
        "sns.heatmap(cm, annot=True, cmap='Blues', fmt='d', xticklabels=class_labels, yticklabels=class_labels)\n",
        "\n",
        "# Set the title and axis labels\n",
        "plt.title(\"Confusion Matrix - Naive Bayes\")\n",
        "plt.xlabel(\"Predicted\")\n",
        "plt.ylabel(\"Actual\")\n",
        "\n",
        "# Show the plot\n",
        "plt.show()"
      ],
      "execution_count": null,
      "outputs": [
        {
          "output_type": "stream",
          "name": "stdout",
          "text": [
            "[[240  17  23]\n",
            " [300  96  46]\n",
            " [763  44 271]]\n",
            "Naive Bayes Classification Report:\n",
            "              precision    recall  f1-score   support\n",
            "\n",
            "         0.0       0.18      0.86      0.30       280\n",
            "         1.0       0.61      0.22      0.32       442\n",
            "         2.0       0.80      0.25      0.38      1078\n",
            "\n",
            "    accuracy                           0.34      1800\n",
            "   macro avg       0.53      0.44      0.34      1800\n",
            "weighted avg       0.66      0.34      0.35      1800\n",
            "\n",
            "Sensitivy:  0.24242424242424243\n",
            "Specificity:  0.933852140077821\n"
          ]
        },
        {
          "output_type": "display_data",
          "data": {
            "text/plain": [
              "<Figure size 800x600 with 2 Axes>"
            ],
            "image/png": "[encoded data removed]"
          },
          "metadata": {}
        }
      ]
    },
    {
      "cell_type": "markdown",
      "source": [
        "### Model fitting (SVM)"
      ],
      "metadata": {
        "id": "fbPXqdysEmQg"
      }
    },
    {
      "cell_type": "code",
      "source": [
        "### Model fitting (SVM)\n",
        "from sklearn.svm import SVC\n",
        "from sklearn.metrics import classification_report\n",
        "\n",
        "\n",
        "\n",
        "classifier_svm = SVC(kernel='linear')\n",
        "classifier_svm.fit(X_train, y_train)\n",
        "\n",
        "# Exporting SVM Classifier to later use in prediction\n",
        "joblib.dump(classifier_svm, 'c3_SVM_Sentiment_Model')\n",
        "\n",
        "### Model performance (SVM)\n",
        "y_pred_svm = classifier_svm.predict(X_test)\n",
        "\n",
        "cm_svm = confusion_matrix(y_test, y_pred_svm)\n",
        "print(\"SVM Confusion Matrix:\")\n",
        "print(cm_svm)\n",
        "accuracy_svm = accuracy_score(y_test, y_pred_svm)\n",
        "print(\"SVM Accuracy:\", accuracy_svm)\n",
        "\n",
        "# Classification report (SVM)\n",
        "classification_rep_svm = classification_report(y_test, y_pred_svm)\n",
        "print(\"SVM Classification Report:\")\n",
        "print(classification_rep_svm)\n",
        "\n",
        "print('Sensitivy: ',cm_svm[1][1]/(cm_svm[1][1]+cm_svm[1][0]))\n",
        "print('Specificity: ',cm_svm[0][0]/(cm_svm[0][0]+cm_svm[0][1]))\n",
        "\n",
        "\n",
        "# Get the predicted labels\n",
        "y_pred_svm = classifier_svm.predict(X_test)\n",
        "\n",
        "# Calculate the confusion matrix\n",
        "cm_svm = confusion_matrix(y_test, y_pred_svm)\n",
        "\n",
        "# Define class labels\n",
        "class_labels = np.unique(np.concatenate((y_test, y_pred_svm)))\n",
        "\n",
        "# Plot the confusion matrix\n",
        "plt.figure(figsize=(8, 6))\n",
        "sns.heatmap(cm_svm, annot=True, cmap='Blues', fmt='d', xticklabels=class_labels, yticklabels=class_labels)\n",
        "\n",
        "# Set the title and axis labels\n",
        "plt.title(\"Confusion Matrix - SVM\")\n",
        "plt.xlabel(\"Predicted\")\n",
        "plt.ylabel(\"Actual\")\n",
        "\n",
        "# Show the plot\n",
        "plt.show()\n"
      ],
      "metadata": {
        "colab": {
          "base_uri": "https://localhost:8080/",
          "height": 885
        },
        "id": "2c67UWj5Ee4m",
        "outputId": "f7cc8f91-8fe9-4dc2-e77a-883f074e8e4d"
      },
      "execution_count": null,
      "outputs": [
        {
          "output_type": "stream",
          "name": "stdout",
          "text": [
            "SVM Confusion Matrix:\n",
            "[[128 103  49]\n",
            " [ 58 275 109]\n",
            " [ 51 128 899]]\n",
            "SVM Accuracy: 0.7233333333333334\n",
            "SVM Classification Report:\n",
            "              precision    recall  f1-score   support\n",
            "\n",
            "         0.0       0.54      0.46      0.50       280\n",
            "         1.0       0.54      0.62      0.58       442\n",
            "         2.0       0.85      0.83      0.84      1078\n",
            "\n",
            "    accuracy                           0.72      1800\n",
            "   macro avg       0.64      0.64      0.64      1800\n",
            "weighted avg       0.73      0.72      0.72      1800\n",
            "\n",
            "Sensitivy:  0.8258258258258259\n",
            "Specificity:  0.5541125541125541\n"
          ]
        },
        {
          "output_type": "display_data",
          "data": {
            "text/plain": [
              "<Figure size 800x600 with 2 Axes>"
            ],
            "image/png": "[encoded data removed]"
          },
          "metadata": {}
        }
      ]
    },
    {
      "cell_type": "markdown",
      "source": [],
      "metadata": {
        "id": "FLG5Ob0wGaBu"
      }
    },
    {
      "cell_type": "markdown",
      "source": [
        "### Model fitting (Random Forest)"
      ],
      "metadata": {
        "id": "ztfL5SLpGeEV"
      }
    },
    {
      "cell_type": "code",
      "source": [
        "### Model fitting (Random Forest)\n",
        "from sklearn.ensemble import RandomForestClassifier\n",
        "\n",
        "classifier_rf = RandomForestClassifier(n_estimators=100, random_state=0)\n",
        "classifier_rf.fit(X_train, y_train)\n",
        "\n",
        "# Exporting Random Forest Classifier to later use in prediction\n",
        "joblib.dump(classifier_rf, 'c3_RF_Sentiment_Model')\n",
        "\n",
        "### Model performance (Random Forest)\n",
        "y_pred_rf = classifier_rf.predict(X_test)\n",
        "\n",
        "cm_rf = confusion_matrix(y_test, y_pred_rf)\n",
        "print(\"Random Forest Confusion Matrix:\")\n",
        "print(cm_rf)\n",
        "accuracy_rf = accuracy_score(y_test, y_pred_rf)\n",
        "print(\"Random Forest Accuracy:\", accuracy_rf)\n",
        "\n",
        "# Classification report (Random Forest)\n",
        "classification_rep_rf = classification_report(y_test, y_pred_rf)\n",
        "print(\"Random Forest Classification Report:\")\n",
        "print(classification_rep_rf)\n",
        "\n",
        "print('Sensitivy: ',cm_rf[1][1]/(cm_rf[1][1]+cm_rf[1][0]))\n",
        "print('Specificity: ',cm_rf[0][0]/(cm_rf[0][0]+cm_rf[0][1]))\n",
        "\n",
        "\n",
        "# Get the predicted labels\n",
        "y_pred_rf = classifier_rf.predict(X_test)\n",
        "\n",
        "# Calculate the confusion matrix\n",
        "cm_rf = confusion_matrix(y_test, y_pred_rf)\n",
        "\n",
        "# Define class labels\n",
        "class_labels = np.unique(np.concatenate((y_test, y_pred_rf)))\n",
        "\n",
        "# Plot the confusion matrix\n",
        "plt.figure(figsize=(8, 6))\n",
        "sns.heatmap(cm_rf, annot=True, cmap='Blues', fmt='d', xticklabels=class_labels, yticklabels=class_labels)\n",
        "\n",
        "# Set the title and axis labels\n",
        "plt.title(\"Confusion Matrix - Random Forest\")\n",
        "plt.xlabel(\"Predicted\")\n",
        "plt.ylabel(\"Actual\")\n",
        "\n",
        "# Show the plot\n",
        "plt.show()"
      ],
      "metadata": {
        "colab": {
          "base_uri": "https://localhost:8080/",
          "height": 885
        },
        "id": "RYHwvKQMGZoe",
        "outputId": "df729aa8-e8bc-4d5a-92eb-9da6d64f04a0"
      },
      "execution_count": null,
      "outputs": [
        {
          "output_type": "stream",
          "name": "stdout",
          "text": [
            "Random Forest Confusion Matrix:\n",
            "[[ 81  64 135]\n",
            " [ 32 219 191]\n",
            " [ 11  83 984]]\n",
            "Random Forest Accuracy: 0.7133333333333334\n",
            "Random Forest Classification Report:\n",
            "              precision    recall  f1-score   support\n",
            "\n",
            "         0.0       0.65      0.29      0.40       280\n",
            "         1.0       0.60      0.50      0.54       442\n",
            "         2.0       0.75      0.91      0.82      1078\n",
            "\n",
            "    accuracy                           0.71      1800\n",
            "   macro avg       0.67      0.57      0.59      1800\n",
            "weighted avg       0.70      0.71      0.69      1800\n",
            "\n",
            "Sensitivy:  0.8725099601593626\n",
            "Specificity:  0.5586206896551724\n"
          ]
        },
        {
          "output_type": "display_data",
          "data": {
            "text/plain": [
              "<Figure size 800x600 with 2 Axes>"
            ],
            "image/png": "[encoded data removed]"
          },
          "metadata": {}
        }
      ]
    },
    {
      "cell_type": "markdown",
      "source": [
        "### Model fitting (Gradient Boosting)"
      ],
      "metadata": {
        "id": "AgkJ6sniG3Q0"
      }
    },
    {
      "cell_type": "code",
      "source": [
        "### Model fitting (Gradient Boosting)\n",
        "from sklearn.ensemble import GradientBoostingClassifier\n",
        "\n",
        "classifier_gb = GradientBoostingClassifier(n_estimators=100, random_state=0)\n",
        "classifier_gb.fit(X_train, y_train)\n",
        "\n",
        "# Exporting Gradient Boosting Classifier to later use in prediction\n",
        "joblib.dump(classifier_gb, 'c4_GB_Sentiment_Model')\n",
        "\n",
        "### Model performance (Gradient Boosting)\n",
        "y_pred_gb = classifier_gb.predict(X_test)\n",
        "\n",
        "cm_gb = confusion_matrix(y_test, y_pred_gb)\n",
        "print(\"Gradient Boosting Confusion Matrix:\")\n",
        "print(cm_gb)\n",
        "accuracy_gb = accuracy_score(y_test, y_pred_gb)\n",
        "print(\"Gradient Boosting Accuracy:\", accuracy_gb)\n",
        "\n",
        "# Classification report (Gradient Boosting)\n",
        "classification_rep_gb = classification_report(y_test, y_pred_gb)\n",
        "print(\"Gradient Boosting Classification Report:\")\n",
        "print(classification_rep_gb)\n",
        "\n",
        "print('Sensitivy: ',cm_gb[1][1]/(cm_gb[1][1]+cm_gb[1][0]))\n",
        "print('Specificity: ',cm_gb[0][0]/(cm_gb[0][0]+cm_gb[0][1]))\n",
        "\n",
        "\n",
        "\n",
        "# Get the predicted labels\n",
        "y_pred_gb = classifier_gb.predict(X_test)\n",
        "\n",
        "# Calculate the confusion matrix\n",
        "cm_gb = confusion_matrix(y_test, y_pred_gb)\n",
        "\n",
        "# Define class labels\n",
        "class_labels = np.unique(np.concatenate((y_test, y_pred_gb)))\n",
        "\n",
        "# Plot the confusion matrix\n",
        "plt.figure(figsize=(8, 6))\n",
        "sns.heatmap(cm_gb, annot=True, cmap='Blues', fmt='d', xticklabels=class_labels, yticklabels=class_labels)\n",
        "\n",
        "# Set the title and axis labels\n",
        "plt.title(\"Confusion Matrix - Gradient Boosting\")\n",
        "plt.xlabel(\"Predicted\")\n",
        "plt.ylabel(\"Actual\")\n",
        "\n",
        "# Show the plot\n",
        "plt.show()"
      ],
      "metadata": {
        "colab": {
          "base_uri": "https://localhost:8080/",
          "height": 885
        },
        "id": "mAGoDJHVG6SH",
        "outputId": "aa800186-8a11-4c6b-fc5b-1a9eb977f344"
      },
      "execution_count": null,
      "outputs": [
        {
          "output_type": "stream",
          "name": "stdout",
          "text": [
            "Gradient Boosting Confusion Matrix:\n",
            "[[  50   33  197]\n",
            " [  10   97  335]\n",
            " [   7   32 1039]]\n",
            "Gradient Boosting Accuracy: 0.6588888888888889\n",
            "Gradient Boosting Classification Report:\n",
            "              precision    recall  f1-score   support\n",
            "\n",
            "         0.0       0.75      0.18      0.29       280\n",
            "         1.0       0.60      0.22      0.32       442\n",
            "         2.0       0.66      0.96      0.78      1078\n",
            "\n",
            "    accuracy                           0.66      1800\n",
            "   macro avg       0.67      0.45      0.46      1800\n",
            "weighted avg       0.66      0.66      0.59      1800\n",
            "\n",
            "Sensitivy:  0.9065420560747663\n",
            "Specificity:  0.6024096385542169\n"
          ]
        },
        {
          "output_type": "display_data",
          "data": {
            "text/plain": [
              "<Figure size 800x600 with 2 Axes>"
            ],
            "image/png": "[encoded data removed]"
          },
          "metadata": {}
        }
      ]
    },
    {
      "cell_type": "markdown",
      "source": [
        "### Model fitting (Logistic Regression)"
      ],
      "metadata": {
        "id": "mkVcJ6XeHfnt"
      }
    },
    {
      "cell_type": "code",
      "source": [
        "### Model fitting (Logistic Regression)\n",
        "from sklearn.linear_model import LogisticRegression\n",
        "\n",
        "classifier_lr = LogisticRegression(random_state=0)\n",
        "classifier_lr.fit(X_train, y_train)\n",
        "\n",
        "# Exporting Logistic Regression Classifier to later use in prediction\n",
        "joblib.dump(classifier_lr, 'c5_LR_Sentiment_Model')\n",
        "\n",
        "### Model performance (Logistic Regression)\n",
        "y_pred_lr = classifier_lr.predict(X_test)\n",
        "\n",
        "cm_lr = confusion_matrix(y_test, y_pred_lr)\n",
        "print(\"Logistic Regression Confusion Matrix:\")\n",
        "print(cm_lr)\n",
        "accuracy_lr = accuracy_score(y_test, y_pred_lr)\n",
        "print(\"Logistic Regression Accuracy:\", accuracy_lr)\n",
        "\n",
        "# Classification report (Logistic Regression)\n",
        "classification_rep_lr = classification_report(y_test, y_pred_lr)\n",
        "print(\"Logistic Regression Classification Report:\")\n",
        "print(classification_rep_lr)\n",
        "\n",
        "print('Sensitivy: ',cm_lr[1][1]/(cm_lr[1][1]+cm_lr[1][0]))\n",
        "print('Specificity: ',cm_lr[0][0]/(cm_lr[0][0]+cm_lr[0][1]))\n",
        "\n",
        "import numpy as np\n",
        "import matplotlib.pyplot as plt\n",
        "import seaborn as sns\n",
        "from sklearn.metrics import confusion_matrix\n",
        "\n",
        "\n",
        "# Get the predicted labels\n",
        "y_pred_lr = classifier_lr.predict(X_test)\n",
        "\n",
        "# Calculate the confusion matrix\n",
        "cm_lr = confusion_matrix(y_test, y_pred_lr)\n",
        "\n",
        "# Define class labels\n",
        "class_labels = np.unique(np.concatenate((y_test, y_pred_lr)))\n",
        "\n",
        "# Plot the confusion matrix\n",
        "plt.figure(figsize=(8, 6))\n",
        "sns.heatmap(cm_lr, annot=True, cmap='Blues', fmt='d', xticklabels=class_labels, yticklabels=class_labels)\n",
        "\n",
        "# Set the title and axis labels\n",
        "plt.title(\"Confusion Matrix - Logistic Regression\")\n",
        "plt.xlabel(\"Predicted\")\n",
        "plt.ylabel(\"Actual\")\n",
        "\n",
        "# Show the plot\n",
        "plt.show()"
      ],
      "metadata": {
        "colab": {
          "base_uri": "https://localhost:8080/",
          "height": 1000
        },
        "id": "F1geo55CHh1s",
        "outputId": "b6c0bd13-1167-44fb-856c-64a72acc67d9"
      },
      "execution_count": null,
      "outputs": [
        {
          "output_type": "stream",
          "name": "stderr",
          "text": [
            "/usr/local/lib/python3.10/dist-packages/sklearn/linear_model/_logistic.py:458: ConvergenceWarning: lbfgs failed to converge (status=1):\n",
            "STOP: TOTAL NO. of ITERATIONS REACHED LIMIT.\n",
            "\n",
            "Increase the number of iterations (max_iter) or scale the data as shown in:\n",
            "    https://scikit-learn.org/stable/modules/preprocessing.html\n",
            "Please also refer to the documentation for alternative solver options:\n",
            "    https://scikit-learn.org/stable/modules/linear_model.html#logistic-regression\n",
            "  n_iter_i = _check_optimize_result(\n"
          ]
        },
        {
          "output_type": "stream",
          "name": "stdout",
          "text": [
            "Logistic Regression Confusion Matrix:\n",
            "[[108 109  63]\n",
            " [ 47 261 134]\n",
            " [ 29 120 929]]\n",
            "Logistic Regression Accuracy: 0.7211111111111111\n",
            "Logistic Regression Classification Report:\n",
            "              precision    recall  f1-score   support\n",
            "\n",
            "         0.0       0.59      0.39      0.47       280\n",
            "         1.0       0.53      0.59      0.56       442\n",
            "         2.0       0.83      0.86      0.84      1078\n",
            "\n",
            "    accuracy                           0.72      1800\n",
            "   macro avg       0.65      0.61      0.62      1800\n",
            "weighted avg       0.72      0.72      0.71      1800\n",
            "\n",
            "Sensitivy:  0.8474025974025974\n",
            "Specificity:  0.4976958525345622\n"
          ]
        },
        {
          "output_type": "display_data",
          "data": {
            "text/plain": [
              "<Figure size 800x600 with 2 Axes>"
            ],
            "image/png": "[encoded data removed]"
          },
          "metadata": {}
        }
      ]
    },
    {
      "cell_type": "code",
      "source": [
        "# Create a list of model names and their corresponding accuracies\n",
        "model_names = ['Naive Bayes', 'SVM', 'Random Forest', 'Gradient Boosting', 'Logistic Regression']\n",
        "accuracies = [accuracy_score(y_test, y_pred), accuracy_svm, accuracy_rf, accuracy_gb, accuracy_lr]\n",
        "\n",
        "# Plot the bar chart\n",
        "plt.figure(figsize=(10, 6))\n",
        "sns.barplot(x=model_names, y=accuracies, palette='Blues')\n",
        "\n",
        "# Add labels and title\n",
        "plt.xlabel('Model')\n",
        "plt.ylabel('Accuracy')\n",
        "plt.title('Comparison of Model Accuracies')\n",
        "\n",
        "# Display the plot\n",
        "plt.show()\n"
      ],
      "metadata": {
        "colab": {
          "base_uri": "https://localhost:8080/",
          "height": 564
        },
        "id": "7WXxWzclVCpi",
        "outputId": "a30e0190-35df-4578-f157-5825f4ae3655"
      },
      "execution_count": null,
      "outputs": [
        {
          "output_type": "display_data",
          "data": {
            "text/plain": [
              "<Figure size 1000x600 with 1 Axes>"
            ],
            "image/png": "[encoded data removed]"
          },
          "metadata": {}
        }
      ]
    }
  ]
}